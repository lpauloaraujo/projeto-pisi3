{
 "cells": [
  {
   "cell_type": "code",
   "execution_count": null,
   "id": "40e13545-6aee-4f89-8812-f8fa6410f4e2",
   "metadata": {},
   "outputs": [],
   "source": [
    "#Tratamento do dados do dataset \"TMDB_movie_dataset_v11\"\n",
    "#Importando bibliotecas\n",
    "import pandas as pd\n",
    "import statistics as sts"
   ]
  },
  {
   "cell_type": "code",
   "execution_count": null,
   "id": "f97b5aa7",
   "metadata": {},
   "outputs": [],
   "source": [
    "#Carregando dados\n",
    "dataset = pd.read_parquet(\"TMDB_movie_dataset_v11.parquet\")"
   ]
  },
  {
   "cell_type": "code",
   "execution_count": null,
   "id": "9744f078-0601-4c4a-8d6c-eed958f0d9d8",
   "metadata": {},
   "outputs": [],
   "source": [
    "#Tratando de registros repetidos (analisar pelas colunas id e imdb_id)"
   ]
  },
  {
   "cell_type": "code",
   "execution_count": null,
   "id": "3cc0cb54",
   "metadata": {},
   "outputs": [],
   "source": [
    "#Tratando de registros que não são considerados filmes (analisar pela coluna keywords)\n",
    "dataset = dataset[dataset['adult'] == False]"
   ]
  },
  {
   "cell_type": "code",
   "execution_count": null,
   "id": "b1dd2cd5-5c38-4f6e-b7ae-1caf22e1c6bb",
   "metadata": {},
   "outputs": [],
   "source": [
    "#Tratando de Outliers\n",
    "#Tirando filmes com bilheteria maior que Avatar\n",
    "bilheteria_avatar = dataset.loc[dataset['title'] == 'Avatar', 'revenue'].values[0]\n",
    "dataset = dataset[dataset['revenue'] <= bilheteria_avatar]\n",
    "\n",
    "#Tirando filmes com valores negativos na bilheteria\n",
    "dataset = dataset[dataset['revenue'] >= 0]"
   ]
  },
  {
   "cell_type": "code",
   "execution_count": null,
   "id": "508fa9e0",
   "metadata": {},
   "outputs": [],
   "source": [
    "#Removendo registros que possuem dados nulos nas colunas 'revenue', 'popularity' e 'vote_count' simultâneamente\n",
    "dataset = dataset[~((dataset['revenue'] == 0) & (dataset['popularity'] == 0) & (dataset['vote_count'] == 0))]"
   ]
  },
  {
   "cell_type": "code",
   "execution_count": null,
   "id": "a3b0432a-0ac4-43f8-aa54-42f449eab40e",
   "metadata": {},
   "outputs": [],
   "source": [
    "#Tratando dados nulos"
   ]
  }
 ],
 "metadata": {
  "kernelspec": {
   "display_name": "Python 3",
   "language": "python",
   "name": "python3"
  },
  "language_info": {
   "codemirror_mode": {
    "name": "ipython",
    "version": 3
   },
   "file_extension": ".py",
   "mimetype": "text/x-python",
   "name": "python",
   "nbconvert_exporter": "python",
   "pygments_lexer": "ipython3",
   "version": "3.12.7"
  }
 },
 "nbformat": 4,
 "nbformat_minor": 5
}
