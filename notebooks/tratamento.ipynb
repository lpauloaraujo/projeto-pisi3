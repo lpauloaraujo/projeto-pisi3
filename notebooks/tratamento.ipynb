{
 "cells": [
  {
   "cell_type": "code",
   "execution_count": null,
   "id": "40e13545-6aee-4f89-8812-f8fa6410f4e2",
   "metadata": {},
   "outputs": [],
   "source": [
    "#Tratamento do dados do dataset \"TMDB_movie_dataset_v11\""
   ]
  },
  {
   "cell_type": "code",
   "execution_count": null,
   "id": "d48b47a8-4c17-4cd1-bd7a-98ea30318653",
   "metadata": {},
   "outputs": [],
   "source": [
    "#Importando bibliotecas\n",
    "import pandas as pd"
   ]
  },
  {
   "cell_type": "code",
   "execution_count": null,
   "id": "9744f078-0601-4c4a-8d6c-eed958f0d9d8",
   "metadata": {},
   "outputs": [],
   "source": [
    "#Tratando de registros repetidos"
   ]
  },
  {
   "cell_type": "code",
   "execution_count": null,
   "id": "035d87ba-62f1-4671-9924-2802570a207a",
   "metadata": {},
   "outputs": [],
   "source": [
    "#Tratando de registros com bilheteria maior que a de \"Avataar\""
   ]
  },
  {
   "cell_type": "code",
   "execution_count": null,
   "id": "b1dd2cd5-5c38-4f6e-b7ae-1caf22e1c6bb",
   "metadata": {},
   "outputs": [],
   "source": [
    "#Tratando de Outliers"
   ]
  },
  {
   "cell_type": "code",
   "execution_count": null,
   "id": "a3b0432a-0ac4-43f8-aa54-42f449eab40e",
   "metadata": {},
   "outputs": [],
   "source": [
    "#Tratando dados nulos"
   ]
  }
 ],
 "metadata": {
  "kernelspec": {
   "display_name": "Python 3 (ipykernel)",
   "language": "python",
   "name": "python3"
  },
  "language_info": {
   "codemirror_mode": {
    "name": "ipython",
    "version": 3
   },
   "file_extension": ".py",
   "mimetype": "text/x-python",
   "name": "python",
   "nbconvert_exporter": "python",
   "pygments_lexer": "ipython3",
   "version": "3.12.7"
  }
 },
 "nbformat": 4,
 "nbformat_minor": 5
}
