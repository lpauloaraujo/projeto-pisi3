{
 "cells": [
  {
   "cell_type": "code",
   "execution_count": 4,
   "metadata": {},
   "outputs": [
    {
     "name": "stdout",
     "output_type": "stream",
     "text": [
      "Linhas antes de dropar: 1131886\n",
      "Linhas depois de dropar: 14218\n",
      "Ocorrências de 'lucratividade_indisponivel' após dropar: 0\n",
      "\n",
      "Porcentagem de cada categoria no DataFrame original:\n",
      "lucratividade\n",
      "lucratividade_indisponivel    98.743866\n",
      "prejuizo                       0.550762\n",
      "super_alta                     0.197811\n",
      "muito_alta                     0.181732\n",
      "media                          0.119800\n",
      "baixo                          0.079072\n",
      "alta                           0.075538\n",
      "muito_baixo                    0.051419\n",
      "Name: proportion, dtype: float64\n",
      "\n",
      "Porcentagem de cada categoria na amostra:\n",
      "lucratividade\n",
      "prejuizo       38.508934\n",
      "super_alta     17.244301\n",
      "muito_alta     15.842575\n",
      "media          10.443623\n",
      "baixo           6.893099\n",
      "alta            6.585028\n",
      "muito_baixo     4.482440\n",
      "Name: proportion, dtype: float64\n"
     ]
    },
    {
     "name": "stderr",
     "output_type": "stream",
     "text": [
      "C:\\Users\\merci\\AppData\\Local\\Temp\\ipykernel_14948\\3586811659.py:26: DeprecationWarning: DataFrameGroupBy.apply operated on the grouping columns. This behavior is deprecated, and in a future version of pandas the grouping columns will be excluded from the operation. Either pass `include_groups=False` to exclude the groupings or explicitly select the grouping columns after groupby to silence this warning.\n",
      "  dados_sample = dados_filtrados.groupby('lucratividade', group_keys=False).apply(lambda x: x.sample(min(len(x), 5000), random_state=42))\n"
     ]
    },
    {
     "name": "stdout",
     "output_type": "stream",
     "text": [
      "Accuracy: 0.5517905275317674\n",
      "Classification Report:\n",
      "               precision    recall  f1-score   support\n",
      "\n",
      "        alta       0.28      0.32      0.29       171\n",
      "       baixo       0.25      0.24      0.24       179\n",
      "       media       0.32      0.29      0.31       271\n",
      "  muito_alta       0.48      0.51      0.50       412\n",
      " muito_baixo       0.12      0.05      0.07       116\n",
      "    prejuizo       0.69      0.79      0.74      1000\n",
      "  super_alta       0.70      0.55      0.62       448\n",
      "\n",
      "    accuracy                           0.55      2597\n",
      "   macro avg       0.41      0.39      0.40      2597\n",
      "weighted avg       0.54      0.55      0.54      2597\n",
      "\n"
     ]
    }
   ],
   "source": [
    "import pandas as pd\n",
    "from sklearn.model_selection import train_test_split\n",
    "from sklearn.preprocessing import StandardScaler\n",
    "from sklearn.neighbors import KNeighborsClassifier\n",
    "from sklearn.metrics import classification_report, accuracy_score\n",
    "\n",
    "# Carregar os dados processados\n",
    "dados = pd.read_parquet(\"TMDB_movie_dataset_v11(com correçao).parquet\")\n",
    "\n",
    "# Manter apenas as colunas especificadas\n",
    "dados = dados[['vote_average', 'vote_count', 'revenue', 'runtime', 'budget', 'popularity', 'lucratividade']]\n",
    "\n",
    "# Dropar linhas onde a coluna 'lucratividade' tem o valor 'lucratividade_indisponivel'\n",
    "dados_filtrados = dados[dados['lucratividade'] != 'lucratividade_indisponivel']\n",
    "\n",
    "# Verificar se as linhas foram dropadas\n",
    "print(f\"Linhas antes de dropar: {len(dados)}\")\n",
    "print(f\"Linhas depois de dropar: {len(dados_filtrados)}\")\n",
    "print(f\"Ocorrências de 'lucratividade_indisponivel' após dropar: {dados_filtrados['lucratividade'].value_counts().get('lucratividade_indisponivel', 0)}\")\n",
    "\n",
    "# Mostrar a porcentagem de cada categoria no DataFrame original\n",
    "print(\"\\nPorcentagem de cada categoria no DataFrame original:\")\n",
    "print(dados['lucratividade'].value_counts(normalize=True) * 100)\n",
    "\n",
    "# Amostragem estratificada para garantir a representatividade das categorias\n",
    "dados_sample = dados_filtrados.groupby('lucratividade', group_keys=False).apply(lambda x: x.sample(min(len(x), 5000), random_state=42))\n",
    "\n",
    "# Mostrar a porcentagem de cada categoria na amostra\n",
    "print(\"\\nPorcentagem de cada categoria na amostra:\")\n",
    "print(dados_sample['lucratividade'].value_counts(normalize=True) * 100)\n",
    "\n",
    "# Separar as features e o target\n",
    "X = dados_sample.drop(columns=['lucratividade'])\n",
    "y = dados_sample['lucratividade']\n",
    "\n",
    "# Dividir os dados em conjuntos de treinamento e teste\n",
    "X_train, X_test, y_train, y_test = train_test_split(X, y, test_size=0.2, random_state=42, stratify=y)\n",
    "\n",
    "# Normalizar os dados\n",
    "scaler = StandardScaler()\n",
    "X_train = scaler.fit_transform(X_train)\n",
    "X_test = scaler.transform(X_test)\n",
    "\n",
    "# Treinar o modelo K-Nearest Neighbors\n",
    "knn_model = KNeighborsClassifier(n_neighbors=5)\n",
    "knn_model.fit(X_train, y_train)\n",
    "\n",
    "# Fazer previsões\n",
    "y_pred = knn_model.predict(X_test)\n",
    "\n",
    "# Avaliar o modelo\n",
    "print(\"Accuracy:\", accuracy_score(y_test, y_pred))\n",
    "print(\"Classification Report:\\n\", classification_report(y_test, y_pred))"
   ]
  }
 ],
 "metadata": {
  "kernelspec": {
   "display_name": "venv",
   "language": "python",
   "name": "python3"
  },
  "language_info": {
   "codemirror_mode": {
    "name": "ipython",
    "version": 3
   },
   "file_extension": ".py",
   "mimetype": "text/x-python",
   "name": "python",
   "nbconvert_exporter": "python",
   "pygments_lexer": "ipython3",
   "version": "3.11.2"
  }
 },
 "nbformat": 4,
 "nbformat_minor": 2
}
